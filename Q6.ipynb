{
 "cells": [
  {
   "cell_type": "code",
   "execution_count": 48,
   "id": "4c25b645-fe9a-45dd-b62f-6f1f457ebc8d",
   "metadata": {},
   "outputs": [
    {
     "name": "stdout",
     "output_type": "stream",
     "text": [
      "2 is not divisible by 3\n",
      "3 is not divisible by 3\n",
      "4 is divisible by 3\n",
      "5 is not divisible by 3\n",
      "6 is not divisible by 3\n",
      "7 is divisible by 3\n",
      "8 is not divisible by 3\n",
      "9 is not divisible by 3\n",
      "10 is divisible by 3\n",
      "11 is not divisible by 3\n",
      "12 is not divisible by 3\n",
      "13 is divisible by 3\n",
      "14 is not divisible by 3\n",
      "15 is not divisible by 3\n",
      "16 is divisible by 3\n",
      "17 is not divisible by 3\n",
      "18 is not divisible by 3\n",
      "19 is divisible by 3\n",
      "20 is not divisible by 3\n",
      "21 is not divisible by 3\n",
      "22 is divisible by 3\n",
      "23 is not divisible by 3\n",
      "24 is not divisible by 3\n",
      "25 is divisible by 3\n"
     ]
    },
    {
     "ename": "IndexError",
     "evalue": "range object index out of range",
     "output_type": "error",
     "traceback": [
      "\u001b[0;31m---------------------------------------------------------------------------\u001b[0m",
      "\u001b[0;31mIndexError\u001b[0m                                Traceback (most recent call last)",
      "Cell \u001b[0;32mIn[48], line 7\u001b[0m\n\u001b[1;32m      5\u001b[0m     \u001b[38;5;28mprint\u001b[39m(A[i],\u001b[38;5;124m'\u001b[39m\u001b[38;5;124mis\u001b[39m\u001b[38;5;124m'\u001b[39m,\u001b[38;5;124m'\u001b[39m\u001b[38;5;124mdivisible by 3\u001b[39m\u001b[38;5;124m'\u001b[39m)\n\u001b[1;32m      6\u001b[0m \u001b[38;5;28;01melse\u001b[39;00m:\n\u001b[0;32m----> 7\u001b[0m         \u001b[38;5;28mprint\u001b[39m(\u001b[43mA\u001b[49m\u001b[43m[\u001b[49m\u001b[43mi\u001b[49m\u001b[43m]\u001b[49m,\u001b[38;5;124m'\u001b[39m\u001b[38;5;124mis\u001b[39m\u001b[38;5;124m'\u001b[39m,\u001b[38;5;124m'\u001b[39m\u001b[38;5;124mnot divisible by 3\u001b[39m\u001b[38;5;124m'\u001b[39m)\n",
      "\u001b[0;31mIndexError\u001b[0m: range object index out of range"
     ]
    }
   ],
   "source": [
    "A=range(1,26)\n",
    "for i in A:\n",
    "    if i %3 == 0:\n",
    "    \n",
    "        print(A[i],'is','divisible by 3')\n",
    "    else:\n",
    "            print(A[i],'is','not divisible by 3')\n",
    "       \n",
    "       \n"
   ]
  },
  {
   "cell_type": "code",
   "execution_count": null,
   "id": "7624c36c-1d2e-40be-b680-1cec63b0aaed",
   "metadata": {},
   "outputs": [],
   "source": []
  }
 ],
 "metadata": {
  "kernelspec": {
   "display_name": "Python 3 (ipykernel)",
   "language": "python",
   "name": "python3"
  },
  "language_info": {
   "codemirror_mode": {
    "name": "ipython",
    "version": 3
   },
   "file_extension": ".py",
   "mimetype": "text/x-python",
   "name": "python",
   "nbconvert_exporter": "python",
   "pygments_lexer": "ipython3",
   "version": "3.10.8"
  }
 },
 "nbformat": 4,
 "nbformat_minor": 5
}

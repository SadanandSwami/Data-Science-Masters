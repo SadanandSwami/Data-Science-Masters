{
 "cells": [
  {
   "cell_type": "code",
   "execution_count": null,
   "id": "ec8071e7-b5ea-40a3-9426-74bde0e61aee",
   "metadata": {},
   "outputs": [],
   "source": [
    "# Question 5"
   ]
  },
  {
   "cell_type": "code",
   "execution_count": null,
   "id": "2e49440e-bf69-49d9-b56f-d80dcd46d48c",
   "metadata": {},
   "outputs": [],
   "source": [
    "A=int(input('Enter a value of A:'))\n",
    "B=int(input('Enter a value of B:'))\n",
    "count=0\n",
    "while A>= B:\n",
    "    A-= B\n",
    "    count += 1\n",
    "if A==0:\n",
    "    print(f'A is divisible by B,and it is divisible {count}times.')\n",
    "else:\n",
    "    print(f'A is not divisible by B.')\n",
    "    "
   ]
  },
  {
   "cell_type": "code",
   "execution_count": null,
   "id": "81219411-0fd1-45cc-a81a-29d3a0ec8a44",
   "metadata": {},
   "outputs": [],
   "source": []
  },
  {
   "cell_type": "code",
   "execution_count": null,
   "id": "883ffceb-755b-46a7-8edb-148326776f9a",
   "metadata": {},
   "outputs": [],
   "source": []
  },
  {
   "cell_type": "code",
   "execution_count": null,
   "id": "53805432-8000-42b0-b761-8cf89d67c636",
   "metadata": {},
   "outputs": [],
   "source": []
  },
  {
   "cell_type": "code",
   "execution_count": null,
   "id": "565b71df-7529-432d-a8f5-1a230fddc16b",
   "metadata": {},
   "outputs": [],
   "source": []
  }
 ],
 "metadata": {
  "kernelspec": {
   "display_name": "Python 3 (ipykernel)",
   "language": "python",
   "name": "python3"
  },
  "language_info": {
   "codemirror_mode": {
    "name": "ipython",
    "version": 3
   },
   "file_extension": ".py",
   "mimetype": "text/x-python",
   "name": "python",
   "nbconvert_exporter": "python",
   "pygments_lexer": "ipython3",
   "version": "3.10.8"
  }
 },
 "nbformat": 4,
 "nbformat_minor": 5
}

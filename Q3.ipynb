{
 "cells": [
  {
   "cell_type": "code",
   "execution_count": null,
   "id": "599722da-26ea-47e2-b5db-dba01afbcf90",
   "metadata": {},
   "outputs": [],
   "source": [
    "# / division"
   ]
  },
  {
   "cell_type": "code",
   "execution_count": 21,
   "id": "8122316c-c887-4fbc-aa4c-05866437eb37",
   "metadata": {},
   "outputs": [
    {
     "name": "stdin",
     "output_type": "stream",
     "text": [
      "Enter a value: 30\n",
      "Enter a value: 20\n"
     ]
    },
    {
     "name": "stdout",
     "output_type": "stream",
     "text": [
      "Division of 30.0 / 20.0 = 1.5\n"
     ]
    }
   ],
   "source": [
    "A=float(input('Enter a value:'))\n",
    "B=float(input('Enter a value:'))\n",
    "result=A/B\n",
    "print('Division of', A,'/',B,'=',result)\n",
    "\n",
    "\n"
   ]
  },
  {
   "cell_type": "code",
   "execution_count": 22,
   "id": "0908c5d3-a460-4f86-8f5e-7889568f9a03",
   "metadata": {},
   "outputs": [],
   "source": [
    "# % Modulus"
   ]
  },
  {
   "cell_type": "code",
   "execution_count": 27,
   "id": "cfd6c87d-762e-4b3d-a988-90e6b4f496af",
   "metadata": {},
   "outputs": [
    {
     "name": "stdin",
     "output_type": "stream",
     "text": [
      "Enter a number:  21\n"
     ]
    },
    {
     "name": "stdout",
     "output_type": "stream",
     "text": [
      "It is a odd number\n"
     ]
    }
   ],
   "source": [
    "N=int(input(\"Enter a number: \"))\n",
    "if N%2==0:\n",
    "      print('Given number',N,'is', 'even number')\n",
    "else:\n",
    "    print ('It is a odd number')"
   ]
  },
  {
   "cell_type": "code",
   "execution_count": 28,
   "id": "ed6375d2-c4bc-4907-82bc-7f334b999369",
   "metadata": {},
   "outputs": [],
   "source": [
    "# // Floor divisin used to get nearest round integer"
   ]
  },
  {
   "cell_type": "code",
   "execution_count": 31,
   "id": "2da5dd0d-2b1d-4978-94ad-240418686546",
   "metadata": {},
   "outputs": [
    {
     "name": "stdin",
     "output_type": "stream",
     "text": [
      "Enter a value: 10.5\n",
      "Enter a value: 2.3\n"
     ]
    },
    {
     "name": "stdout",
     "output_type": "stream",
     "text": [
      "Floor Division of 10.5 // 2.3 = 4.0\n"
     ]
    }
   ],
   "source": [
    "A=float(input('Enter a value:'))\n",
    "B=float(input('Enter a value:'))\n",
    "result=A//B\n",
    "print('Floor Division of', A,'//',B,'=',result)\n",
    "\n",
    "\n"
   ]
  },
  {
   "cell_type": "code",
   "execution_count": 33,
   "id": "a1c7a19e-b0ef-4956-a8db-3e2f8bd29541",
   "metadata": {},
   "outputs": [],
   "source": [
    "# * * Exponent to get the power of that number"
   ]
  },
  {
   "cell_type": "code",
   "execution_count": 34,
   "id": "43487425-1a66-43a9-8265-0c90846298e1",
   "metadata": {},
   "outputs": [
    {
     "name": "stdin",
     "output_type": "stream",
     "text": [
      "Enter a value: 10\n",
      "Enter a value: 2\n"
     ]
    },
    {
     "name": "stdout",
     "output_type": "stream",
     "text": [
      "10.0 * * 2.0 = 100.0\n"
     ]
    }
   ],
   "source": [
    "A=float(input('Enter a value:'))\n",
    "B=float(input('Enter a value:'))\n",
    "result=A**B\n",
    "print(A,'* *',B,'=',result)\n",
    "\n",
    "\n"
   ]
  },
  {
   "cell_type": "code",
   "execution_count": null,
   "id": "bd53d3fe-a239-4073-bd12-5be77e99a226",
   "metadata": {},
   "outputs": [],
   "source": []
  }
 ],
 "metadata": {
  "kernelspec": {
   "display_name": "Python 3 (ipykernel)",
   "language": "python",
   "name": "python3"
  },
  "language_info": {
   "codemirror_mode": {
    "name": "ipython",
    "version": 3
   },
   "file_extension": ".py",
   "mimetype": "text/x-python",
   "name": "python",
   "nbconvert_exporter": "python",
   "pygments_lexer": "ipython3",
   "version": "3.10.8"
  }
 },
 "nbformat": 4,
 "nbformat_minor": 5
}

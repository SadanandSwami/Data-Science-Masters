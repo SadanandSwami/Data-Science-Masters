{
 "cells": [
  {
   "cell_type": "code",
   "execution_count": 1,
   "id": "eb4b3c24-c30d-4755-94c2-2805d83c7d95",
   "metadata": {},
   "outputs": [],
   "source": [
    "#Question 2"
   ]
  },
  {
   "cell_type": "code",
   "execution_count": 5,
   "id": "914800b9-cf9c-49c5-b8e6-efa179dd695f",
   "metadata": {},
   "outputs": [
    {
     "name": "stdout",
     "output_type": "stream",
     "text": [
      "<class 'str'>\n"
     ]
    }
   ],
   "source": [
    "Var1=' '\n",
    "print(type(Var1))"
   ]
  },
  {
   "cell_type": "code",
   "execution_count": 6,
   "id": "9a8d2193-3724-42cf-b8e2-6cc89ce65142",
   "metadata": {},
   "outputs": [
    {
     "name": "stdout",
     "output_type": "stream",
     "text": [
      "<class 'str'>\n"
     ]
    }
   ],
   "source": [
    "Var2='[DS,ML,PYTHON]'\n",
    "print(type(Var2))"
   ]
  },
  {
   "cell_type": "code",
   "execution_count": 17,
   "id": "4410e505-2c50-4a17-b589-facbbd6ecb3d",
   "metadata": {},
   "outputs": [
    {
     "name": "stdout",
     "output_type": "stream",
     "text": [
      "<class 'list'>\n"
     ]
    }
   ],
   "source": [
    "Var3=['DS','ML','PYTHON']\n",
    "print(type(Var3))"
   ]
  },
  {
   "cell_type": "code",
   "execution_count": 18,
   "id": "f7bb63b6-e2ae-4477-97d8-c7ca0b1a1a3f",
   "metadata": {},
   "outputs": [
    {
     "name": "stdout",
     "output_type": "stream",
     "text": [
      "<class 'float'>\n"
     ]
    }
   ],
   "source": [
    "Var4=1.\n",
    "print(type(Var4))"
   ]
  },
  {
   "cell_type": "code",
   "execution_count": null,
   "id": "3f6fa376-3ee8-464c-ab73-8a20677c1ec7",
   "metadata": {},
   "outputs": [],
   "source": []
  }
 ],
 "metadata": {
  "kernelspec": {
   "display_name": "Python 3 (ipykernel)",
   "language": "python",
   "name": "python3"
  },
  "language_info": {
   "codemirror_mode": {
    "name": "ipython",
    "version": 3
   },
   "file_extension": ".py",
   "mimetype": "text/x-python",
   "name": "python",
   "nbconvert_exporter": "python",
   "pygments_lexer": "ipython3",
   "version": "3.10.8"
  }
 },
 "nbformat": 4,
 "nbformat_minor": 5
}

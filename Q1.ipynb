{
 "cells": [
  {
   "cell_type": "markdown",
   "id": "074c1842-9154-488c-a479-efcab3328b6e",
   "metadata": {},
   "source": [
    "#string"
   ]
  },
  {
   "cell_type": "code",
   "execution_count": 13,
   "id": "1bb9eb26-9d05-47c5-9320-c21e5895b27b",
   "metadata": {},
   "outputs": [
    {
     "name": "stdout",
     "output_type": "stream",
     "text": [
      "<class 'str'>\n"
     ]
    }
   ],
   "source": [
    "PW_SKILL=\"Data Science 02\"\n",
    "print(type(PW_SKILL))"
   ]
  },
  {
   "cell_type": "code",
   "execution_count": 11,
   "id": "586d93c3-5162-46ee-8beb-94cfb72bcaf3",
   "metadata": {},
   "outputs": [
    {
     "name": "stdout",
     "output_type": "stream",
     "text": [
      "['Data Science', 'Web Development', 'C++', 'Java', 3500]\n",
      "<class 'list'>\n"
     ]
    }
   ],
   "source": [
    "PW_SKILL=['Data Science','Web Development','C++','Java',1]\n",
    "PW_SKILL[4]=3500\n",
    "print(PW_SKILL)\n",
    "print(type(PW_SKILL))"
   ]
  },
  {
   "cell_type": "code",
   "execution_count": 12,
   "id": "76dcad6e-be25-4b05-8943-c3c50410c8e5",
   "metadata": {},
   "outputs": [
    {
     "name": "stdout",
     "output_type": "stream",
     "text": [
      "<class 'float'>\n"
     ]
    }
   ],
   "source": [
    "Data_Science_Fee=3500.00\n",
    "print(type(Data_Science_Fee))"
   ]
  },
  {
   "cell_type": "code",
   "execution_count": 14,
   "id": "6466b80d-5f2f-4df5-b1e9-19feefa0bdaf",
   "metadata": {},
   "outputs": [
    {
     "name": "stdout",
     "output_type": "stream",
     "text": [
      "<class 'tuple'>\n"
     ]
    }
   ],
   "source": [
    "Assignment=(3500,'Data Science','work',120)\n",
    "print(type(Assignment))"
   ]
  },
  {
   "cell_type": "code",
   "execution_count": null,
   "id": "6e9a996a-6cf2-4a73-9dba-b6b43aa68374",
   "metadata": {},
   "outputs": [],
   "source": []
  }
 ],
 "metadata": {
  "kernelspec": {
   "display_name": "Python 3 (ipykernel)",
   "language": "python",
   "name": "python3"
  },
  "language_info": {
   "codemirror_mode": {
    "name": "ipython",
    "version": 3
   },
   "file_extension": ".py",
   "mimetype": "text/x-python",
   "name": "python",
   "nbconvert_exporter": "python",
   "pygments_lexer": "ipython3",
   "version": "3.10.8"
  }
 },
 "nbformat": 4,
 "nbformat_minor": 5
}

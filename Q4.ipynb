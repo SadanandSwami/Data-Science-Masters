{
 "cells": [
  {
   "cell_type": "code",
   "execution_count": 2,
   "id": "4e7503e1-d6cf-4804-8ee3-10638b3d80ab",
   "metadata": {},
   "outputs": [
    {
     "name": "stdout",
     "output_type": "stream",
     "text": [
      "10 = <class 'int'>\n",
      "11 = <class 'int'>\n",
      "12 = <class 'int'>\n",
      "13 = <class 'int'>\n",
      "14 = <class 'int'>\n",
      "15 = <class 'int'>\n",
      "STR = <class 'str'>\n",
      "A10 = <class 'str'>\n",
      "8 = <class 'int'>\n",
      "9 = <class 'int'>\n",
      "0 = <class 'int'>\n"
     ]
    }
   ],
   "source": [
    "A=[10,11,12,13,14,15,'STR','A10',8,9,0]\n",
    "for i in range(11):\n",
    "    B=A[0+i]\n",
    "    print(B,'=',type(B))"
   ]
  },
  {
   "cell_type": "code",
   "execution_count": null,
   "id": "797ec132-5b37-436b-a644-5761c2b9d139",
   "metadata": {},
   "outputs": [],
   "source": []
  }
 ],
 "metadata": {
  "kernelspec": {
   "display_name": "Python 3 (ipykernel)",
   "language": "python",
   "name": "python3"
  },
  "language_info": {
   "codemirror_mode": {
    "name": "ipython",
    "version": 3
   },
   "file_extension": ".py",
   "mimetype": "text/x-python",
   "name": "python",
   "nbconvert_exporter": "python",
   "pygments_lexer": "ipython3",
   "version": "3.10.8"
  }
 },
 "nbformat": 4,
 "nbformat_minor": 5
}
